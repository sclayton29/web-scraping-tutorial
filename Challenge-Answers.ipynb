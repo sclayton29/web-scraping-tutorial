{
 "cells": [
  {
   "cell_type": "markdown",
   "metadata": {},
   "source": [
    "# Challenge Answers for Web Scraping Workshop\n",
    "This notebook has all the answers for the challenge questions in the Web Scraping Workshop notebook. "
   ]
  },
  {
   "cell_type": "markdown",
   "metadata": {},
   "source": [
    "## Challenge 1\n",
    "``` python\n",
    "neighborhoods =soup.findAll(attrs= {'class': 'result-hood'})\n",
    "```\n"
   ]
  },
  {
   "cell_type": "markdown",
   "metadata": {},
   "source": [
    "## Challenge 2\n",
    "```python\n",
    "for price in prices:\n",
    "    print(price.get_text())\n",
    "    \n",
    "#Bonus:  \n",
    "for x in neighborhoods:\n",
    "    print(x.get_text())\n",
    "    \n",
    "for s in sizes:\n",
    "    print(sizes.get_text())\n",
    "```"
   ]
  },
  {
   "cell_type": "markdown",
   "metadata": {},
   "source": [
    "## Challenge 3\n",
    "```python\n",
    "print('Number of neighborhoods returned:', len(neighborhoods))\n",
    "print('Number of sizes returned:', len(sizes))\n",
    "```"
   ]
  },
  {
   "cell_type": "markdown",
   "metadata": {},
   "source": [
    "## Challenge 4\n",
    "``` python\n",
    "listings =soup.findAll(attrs= {'class': 'result-info'})\n",
    "```"
   ]
  },
  {
   "cell_type": "markdown",
   "metadata": {},
   "source": [
    "## Challenge 5\n",
    "```python\n",
    "print(listings[4])\n",
    "```"
   ]
  },
  {
   "cell_type": "markdown",
   "metadata": {},
   "source": [
    "## Challenge 6\n",
    "```python \n",
    "print('Title:',title.get_text())  \n",
    "print('Price:',price.get_text()) \n",
    "print('Size:', size.get_text())  \n",
    "print('Neighborhood:', neighborhood.get_text())\n",
    "```  "
   ]
  },
  {
   "cell_type": "markdown",
   "metadata": {},
   "source": [
    "## Challenge 7\n",
    "``` python\n",
    "#Writing conditional statements to handle missing data. \n",
    "print('Title:',title.get_text())\n",
    "\n",
    "#Checking on price\n",
    "if price != None:\n",
    "    print('Price:',price.get_text())\n",
    "else: \n",
    "    print('Price:','None')\n",
    "    \n",
    "#Checking on size\n",
    "if size != None:\n",
    "    print('Size:', size.get_text())\n",
    "else: print('Size:','None')\n",
    "\n",
    "#Checking on neighboorhood\n",
    "if neighborhood != None:\n",
    "    print('Neighborhood:', neighborhood.get_text())     \n",
    "else: \n",
    "    print('Neighborhood:','None')\n",
    "```\n"
   ]
  },
  {
   "cell_type": "markdown",
   "metadata": {},
   "source": [
    "## Challenge 8 \n",
    "```python\n",
    "for listing in listings:\n",
    "    #Pull info for each listing\n",
    "    title = listing.find(attrs = {\"class\": \"result-title hdrlnk\"})\n",
    "    price = listing.find(attrs = {\"class\":\"result-price\"})\n",
    "    size = listing.find(attrs = {\"class\": \"housing\"})\n",
    "    neighborhood = listing.find(attrs = {\"class\": \"result-hood\"})\n",
    "\n",
    "    \n",
    "    #Print out info for each listing\n",
    "    print('Title:',title.get_text())\n",
    "    if price != None:\n",
    "        print('Price:',price.get_text())\n",
    "    else: \n",
    "        print('Price:','None')\n",
    "    if size != None:\n",
    "        print('Size:', size.get_text())\n",
    "    else: \n",
    "        print('Size:','None')\n",
    "    if neighborhood != None:\n",
    "        print('Neighborhood:', neighborhood.get_text())     \n",
    "    else: \n",
    "        print('Neighborhood:','None')\n",
    "```"
   ]
  },
  {
   "cell_type": "markdown",
   "metadata": {},
   "source": [
    "## Challenge 9\n",
    "\n",
    "```python\n",
    "#Start with an empty list to hold the data\n",
    "titles = []\n",
    "\n",
    "#Run a for loop to pull all the titles\n",
    "for listing in listings: \n",
    "    title = listing.find(attrs = {\"class\": \"result-title hdrlnk\"})\n",
    "    #print out each title\n",
    "    print(title.get_text())\n",
    "    \n",
    "    #Append each title for the list.\n",
    "    titles.append(title.get_text())\n",
    "\n",
    "#print full list of titles\n",
    "print(titles)\n",
    "```"
   ]
  },
  {
   "cell_type": "markdown",
   "metadata": {},
   "source": [
    "## Challenge 10\n",
    "```python\n",
    "titles = []\n",
    "prices =[]\n",
    "sizes = []\n",
    "neighborhoods = []\n",
    "\n",
    "for listing in listings:\n",
    "    #Pull info for each listing\n",
    "    title = listing.find(attrs = {\"class\": \"result-title hdrlnk\"})\n",
    "    price = listing.find(attrs = {\"class\":\"result-price\"})\n",
    "    size = listing.find(attrs = {\"class\": \"housing\"})\n",
    "    neighborhood = listing.find(attrs = {\"class\": \"result-hood\"})\n",
    "    \n",
    "    #Print out Title to show progress\n",
    "    print('Title:',title.get_text())\n",
    "    \n",
    "    #Append each listing to a new list\n",
    "    titles.append(title.get_text())\n",
    "    if price != None:\n",
    "        prices.append(price.get_text())\n",
    "    else: \n",
    "        prices.append('None')\n",
    "    if size != None:\n",
    "        print(size.get_text().split('-')[0])\n",
    "        print(size.get_text().split('-')[1])\n",
    "        sizes.append(size.get_text())\n",
    "    else: \n",
    "        sizes.append('None')\n",
    "    if neighborhood != None:\n",
    "        neighborhoods.append(neighborhood.get_text())    \n",
    "    else: \n",
    "        neighborhoods.append('None')\n",
    "        \n",
    "print('Done')\n",
    "\n",
    "```"
   ]
  },
  {
   "cell_type": "markdown",
   "metadata": {},
   "source": [
    "## Challenge 11\n",
    "```python\n",
    "data = pd.DataFrame({'Neighborhood': neighborhoods,\n",
    "                     'Bedrooms': bedrooms,\n",
    "                     'SqFt': sqfts,\n",
    "                     'Title': titles,\n",
    "                     'Price': prices\n",
    "                    })\n",
    "```"
   ]
  },
  {
   "cell_type": "code",
   "execution_count": null,
   "metadata": {},
   "outputs": [],
   "source": []
  }
 ],
 "metadata": {
  "kernelspec": {
   "display_name": "Python 3",
   "language": "python",
   "name": "python3"
  },
  "language_info": {
   "codemirror_mode": {
    "name": "ipython",
    "version": 3
   },
   "file_extension": ".py",
   "mimetype": "text/x-python",
   "name": "python",
   "nbconvert_exporter": "python",
   "pygments_lexer": "ipython3",
   "version": "3.6.5"
  }
 },
 "nbformat": 4,
 "nbformat_minor": 2
}
